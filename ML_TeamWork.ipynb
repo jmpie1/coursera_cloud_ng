{
  "nbformat": 4,
  "nbformat_minor": 0,
  "metadata": {
    "colab": {
      "name": "ML_TeamWork.ipynb",
      "provenance": [],
      "collapsed_sections": [],
      "include_colab_link": true
    },
    "kernelspec": {
      "name": "python3",
      "display_name": "Python 3"
    },
    "accelerator": "TPU"
  },
  "cells": [
    {
      "cell_type": "markdown",
      "metadata": {
        "id": "view-in-github",
        "colab_type": "text"
      },
      "source": [
        "<a href=\"https://colab.research.google.com/github/jmpie1/coursera_cloud_ng/blob/main/ML_TeamWork.ipynb\" target=\"_parent\"><img src=\"https://colab.research.google.com/assets/colab-badge.svg\" alt=\"Open In Colab\"/></a>"
      ]
    },
    {
      "cell_type": "code",
      "metadata": {
        "cellView": "form",
        "outputId": "1b5ebaf1-91c6-43b5-b32d-b22e1e22dae3",
        "id": "0bzOyWuStWcG",
        "colab": {
          "base_uri": "https://localhost:8080/",
          "height": 142
        }
      },
      "source": [
        "#@title\n",
        "\n",
        "\n",
        "%%html\n",
        "<body>\n",
        "  <marquee style='color: blue;' SCROLLDELAY=60 truespeed='true'>Machine learning</marquee> \n",
        "\n",
        "\n",
        "<marquee style='color: blue;' direction=\"down\" height=\"100\" width=\"200\" bgcolor=\"white\" SCROLLDELAY=500 >Données d'entrainement</marquee>\n",
        "<marquee style='color:blue;' direction=\"down\" height=\"100\" width=\"200\" bgcolor=\"white\" SCROLLDELAY=500>Données de test</marquee>\n",
        "<marquee style='color: blue;' direction=\"down\" height=\"100\" width=\"200\" bgcolor=\"white\" SCROLLDELAY=500>Modèle</marquee>\n",
        "<marquee style='color: blue;' direction=\"down\" height=\"100\" width=\"200\" bgcolor=\"white\" SCROLLDELAY=500>Validation de modèle</marquee>\n",
        "</body>"
      ],
      "execution_count": null,
      "outputs": [
        {
          "output_type": "display_data",
          "data": {
            "text/html": [
              "<body>\n",
              "  <marquee style='color: blue;' SCROLLDELAY=60 truespeed='true'>Machine learning</marquee> \n",
              "\n",
              "\n",
              "<marquee style='color: blue;' direction=\"down\" height=\"100\" width=\"200\" bgcolor=\"white\" SCROLLDELAY=500 >Données d'entrainement</marquee>\n",
              "<marquee style='color:blue;' direction=\"down\" height=\"100\" width=\"200\" bgcolor=\"white\" SCROLLDELAY=500>Données de test</marquee>\n",
              "<marquee style='color: blue;' direction=\"down\" height=\"100\" width=\"200\" bgcolor=\"white\" SCROLLDELAY=500>Modèle</marquee>\n",
              "<marquee style='color: blue;' direction=\"down\" height=\"100\" width=\"200\" bgcolor=\"white\" SCROLLDELAY=500>Validation de modèle</marquee>\n",
              "</body>"
            ],
            "text/plain": [
              "<IPython.core.display.HTML object>"
            ]
          },
          "metadata": {
            "tags": []
          }
        }
      ]
    },
    {
      "cell_type": "markdown",
      "metadata": {
        "id": "gYnIyiCduD7Z"
      },
      "source": [
        "# <font color='blue'>**Machine Learning pour les novices** </font> <br>\n",
        "Comment permettre à quelqu'un qui ne s'y connait pas en statistique de comprendre minimalement le fonctionnement des algorithmes de machine learning? <br>\n",
        "\n",
        "Comment permettre à un profane (dans le domaine) de comprendre, à haut niveau, une problématique de machine learning? <br>\n",
        "\n",
        "Comment définir de manière très simple les termes clés qui servent à définir le machine learning? <br>\n",
        "\n",
        "**Cette présentation se veut une réponse à ces questions.**\n",
        "\n",
        "\n"
      ]
    },
    {
      "cell_type": "markdown",
      "metadata": {
        "id": "IzmmSrGFvOV7"
      },
      "source": [
        "## <font color='blue'>Importer les librairies nécessaires</font>\n"
      ]
    },
    {
      "cell_type": "code",
      "metadata": {
        "id": "NaehzNKCUao_"
      },
      "source": [
        "#@title\n",
        "import random\n",
        "import numpy as np\n",
        "import pandas\n",
        "from IPython import display\n",
        "from sklearn import linear_model\n",
        "\n",
        "# Préparation de données\n",
        "random.seed(1)\n",
        "x1=np.round( np.array([random.uniform(5,50)*i for i in range(10,30)]),1)\n",
        "x2= np.array(range(4,24))\n",
        "location= pandas.DataFrame({'essence':x1, 'duree':x2, 'total': 3.*x2+.09*x1})\n",
        "x2=[1,2,3,21,22,23,24]\n",
        "x1= [10,18,20.5, 102,123,133,151.3]\n",
        "validation = pandas.DataFrame({'essence':x1, 'duree':x2, 'total': ['?','?','?','?','?','?','?']})\n",
        "\n"
      ],
      "execution_count": null,
      "outputs": []
    },
    {
      "cell_type": "markdown",
      "metadata": {
        "id": "Wr7RN01lv86t"
      },
      "source": [
        "## <font color='blue'>Machine learning</font>\n",
        "On évite volontairement de donner une définition du machine learning, l'objectif est que le lecteur puisse donner une définition du machine learning après avoir lu ce document."
      ]
    },
    {
      "cell_type": "markdown",
      "metadata": {
        "id": "2_uBjS5wCJDr"
      },
      "source": [
        "### **Mots-clés**\n",
        "\n",
        "\n",
        "*   Données d'entrainement\n",
        "*   Données de test\n",
        "*   Modèle \n",
        "*   Validation de modèle\n",
        "\n"
      ]
    },
    {
      "cell_type": "markdown",
      "metadata": {
        "id": "Ww0dVjRawF6o"
      },
      "source": [
        "> #####   **Données d'entrainement**\n",
        "Une compagnie de location de voiture loue des voitures à des apprentis conducteurs afin qu'ils puissent s'améliorer avant d'aller subir leur examen de conduite. La compagnie facture les clients selon la quantité d'essence consommée  et le nombre de kilomètres parcourus. La présentation du jeu de données est donnée ci-dessous.\n",
        "\n",
        "\n",
        "\n"
      ]
    },
    {
      "cell_type": "code",
      "metadata": {
        "id": "q4cwJ_SFO9HL",
        "outputId": "a028f5f6-a47c-48b2-d0ba-33a592697de4",
        "colab": {
          "base_uri": "https://localhost:8080/",
          "height": 639
        }
      },
      "source": [
        "#@title Visualiser les données d'entrainement.\n",
        "location"
      ],
      "execution_count": null,
      "outputs": [
        {
          "output_type": "execute_result",
          "data": {
            "text/html": [
              "<div>\n",
              "<style scoped>\n",
              "    .dataframe tbody tr th:only-of-type {\n",
              "        vertical-align: middle;\n",
              "    }\n",
              "\n",
              "    .dataframe tbody tr th {\n",
              "        vertical-align: top;\n",
              "    }\n",
              "\n",
              "    .dataframe thead th {\n",
              "        text-align: right;\n",
              "    }\n",
              "</style>\n",
              "<table border=\"1\" class=\"dataframe\">\n",
              "  <thead>\n",
              "    <tr style=\"text-align: right;\">\n",
              "      <th></th>\n",
              "      <th>essence</th>\n",
              "      <th>duree</th>\n",
              "      <th>total</th>\n",
              "    </tr>\n",
              "  </thead>\n",
              "  <tbody>\n",
              "    <tr>\n",
              "      <th>0</th>\n",
              "      <td>110.5</td>\n",
              "      <td>4</td>\n",
              "      <td>21.945</td>\n",
              "    </tr>\n",
              "    <tr>\n",
              "      <th>1</th>\n",
              "      <td>474.5</td>\n",
              "      <td>5</td>\n",
              "      <td>57.705</td>\n",
              "    </tr>\n",
              "    <tr>\n",
              "      <th>2</th>\n",
              "      <td>472.4</td>\n",
              "      <td>6</td>\n",
              "      <td>60.516</td>\n",
              "    </tr>\n",
              "    <tr>\n",
              "      <th>3</th>\n",
              "      <td>214.2</td>\n",
              "      <td>7</td>\n",
              "      <td>40.278</td>\n",
              "    </tr>\n",
              "    <tr>\n",
              "      <th>4</th>\n",
              "      <td>382.1</td>\n",
              "      <td>8</td>\n",
              "      <td>58.389</td>\n",
              "    </tr>\n",
              "    <tr>\n",
              "      <th>5</th>\n",
              "      <td>378.4</td>\n",
              "      <td>9</td>\n",
              "      <td>61.056</td>\n",
              "    </tr>\n",
              "    <tr>\n",
              "      <th>6</th>\n",
              "      <td>549.1</td>\n",
              "      <td>10</td>\n",
              "      <td>79.419</td>\n",
              "    </tr>\n",
              "    <tr>\n",
              "      <th>7</th>\n",
              "      <td>688.4</td>\n",
              "      <td>11</td>\n",
              "      <td>94.956</td>\n",
              "    </tr>\n",
              "    <tr>\n",
              "      <th>8</th>\n",
              "      <td>166.0</td>\n",
              "      <td>12</td>\n",
              "      <td>50.940</td>\n",
              "    </tr>\n",
              "    <tr>\n",
              "      <th>9</th>\n",
              "      <td>119.2</td>\n",
              "      <td>13</td>\n",
              "      <td>49.728</td>\n",
              "    </tr>\n",
              "    <tr>\n",
              "      <th>10</th>\n",
              "      <td>852.2</td>\n",
              "      <td>14</td>\n",
              "      <td>118.698</td>\n",
              "    </tr>\n",
              "    <tr>\n",
              "      <th>11</th>\n",
              "      <td>514.0</td>\n",
              "      <td>15</td>\n",
              "      <td>91.260</td>\n",
              "    </tr>\n",
              "    <tr>\n",
              "      <th>12</th>\n",
              "      <td>864.7</td>\n",
              "      <td>16</td>\n",
              "      <td>125.823</td>\n",
              "    </tr>\n",
              "    <tr>\n",
              "      <th>13</th>\n",
              "      <td>117.2</td>\n",
              "      <td>17</td>\n",
              "      <td>61.548</td>\n",
              "    </tr>\n",
              "    <tr>\n",
              "      <th>14</th>\n",
              "      <td>601.0</td>\n",
              "      <td>18</td>\n",
              "      <td>108.090</td>\n",
              "    </tr>\n",
              "    <tr>\n",
              "      <th>15</th>\n",
              "      <td>936.7</td>\n",
              "      <td>19</td>\n",
              "      <td>141.303</td>\n",
              "    </tr>\n",
              "    <tr>\n",
              "      <th>16</th>\n",
              "      <td>397.7</td>\n",
              "      <td>20</td>\n",
              "      <td>95.793</td>\n",
              "    </tr>\n",
              "    <tr>\n",
              "      <th>17</th>\n",
              "      <td>1283.5</td>\n",
              "      <td>21</td>\n",
              "      <td>178.515</td>\n",
              "    </tr>\n",
              "    <tr>\n",
              "      <th>18</th>\n",
              "      <td>1275.8</td>\n",
              "      <td>22</td>\n",
              "      <td>180.822</td>\n",
              "    </tr>\n",
              "    <tr>\n",
              "      <th>19</th>\n",
              "      <td>184.9</td>\n",
              "      <td>23</td>\n",
              "      <td>85.641</td>\n",
              "    </tr>\n",
              "  </tbody>\n",
              "</table>\n",
              "</div>"
            ],
            "text/plain": [
              "    essence  duree    total\n",
              "0     110.5      4   21.945\n",
              "1     474.5      5   57.705\n",
              "2     472.4      6   60.516\n",
              "3     214.2      7   40.278\n",
              "4     382.1      8   58.389\n",
              "5     378.4      9   61.056\n",
              "6     549.1     10   79.419\n",
              "7     688.4     11   94.956\n",
              "8     166.0     12   50.940\n",
              "9     119.2     13   49.728\n",
              "10    852.2     14  118.698\n",
              "11    514.0     15   91.260\n",
              "12    864.7     16  125.823\n",
              "13    117.2     17   61.548\n",
              "14    601.0     18  108.090\n",
              "15    936.7     19  141.303\n",
              "16    397.7     20   95.793\n",
              "17   1283.5     21  178.515\n",
              "18   1275.8     22  180.822\n",
              "19    184.9     23   85.641"
            ]
          },
          "metadata": {
            "tags": []
          },
          "execution_count": 6
        }
      ]
    },
    {
      "cell_type": "markdown",
      "metadata": {
        "id": "B4CEgg0BPLaT"
      },
      "source": [
        "\n",
        "\n",
        "> <em>Description des données</em>\n",
        "\n",
        "\n",
        "       > essence: nombre de litres d'essence consommée.\n",
        "\n",
        "       > duree: nombre d'heures écoulées depuis la location de l'auto.\n",
        "\n",
        "       > total : le montant de la facture.\n",
        "\n",
        "\n",
        "\n"
      ]
    },
    {
      "cell_type": "markdown",
      "metadata": {
        "id": "IdfeQ0YPV2lF"
      },
      "source": [
        "\n",
        "> ##### **Donnée de test**\n",
        "\n",
        "\n",
        "Ce jeu de données contient le nombre de litres d'essence consommée ainsi que le nombre de kilomètres effectués pour de nouveaux clients. Toutefois le montant de leur facture est inconnue. La présentation de ce jeu de données est donnée ci-dessous."
      ]
    },
    {
      "cell_type": "code",
      "metadata": {
        "id": "2OQms_3_Ztxn",
        "outputId": "12527c84-d560-4914-a15d-42939aacf621",
        "colab": {
          "base_uri": "https://localhost:8080/",
          "height": 266
        }
      },
      "source": [
        "#@title Visualiser les données de test\n",
        "validation"
      ],
      "execution_count": null,
      "outputs": [
        {
          "output_type": "execute_result",
          "data": {
            "text/html": [
              "<div>\n",
              "<style scoped>\n",
              "    .dataframe tbody tr th:only-of-type {\n",
              "        vertical-align: middle;\n",
              "    }\n",
              "\n",
              "    .dataframe tbody tr th {\n",
              "        vertical-align: top;\n",
              "    }\n",
              "\n",
              "    .dataframe thead th {\n",
              "        text-align: right;\n",
              "    }\n",
              "</style>\n",
              "<table border=\"1\" class=\"dataframe\">\n",
              "  <thead>\n",
              "    <tr style=\"text-align: right;\">\n",
              "      <th></th>\n",
              "      <th>essence</th>\n",
              "      <th>duree</th>\n",
              "      <th>total</th>\n",
              "    </tr>\n",
              "  </thead>\n",
              "  <tbody>\n",
              "    <tr>\n",
              "      <th>0</th>\n",
              "      <td>10.0</td>\n",
              "      <td>1</td>\n",
              "      <td>?</td>\n",
              "    </tr>\n",
              "    <tr>\n",
              "      <th>1</th>\n",
              "      <td>18.0</td>\n",
              "      <td>2</td>\n",
              "      <td>?</td>\n",
              "    </tr>\n",
              "    <tr>\n",
              "      <th>2</th>\n",
              "      <td>20.5</td>\n",
              "      <td>3</td>\n",
              "      <td>?</td>\n",
              "    </tr>\n",
              "    <tr>\n",
              "      <th>3</th>\n",
              "      <td>102.0</td>\n",
              "      <td>21</td>\n",
              "      <td>?</td>\n",
              "    </tr>\n",
              "    <tr>\n",
              "      <th>4</th>\n",
              "      <td>123.0</td>\n",
              "      <td>22</td>\n",
              "      <td>?</td>\n",
              "    </tr>\n",
              "    <tr>\n",
              "      <th>5</th>\n",
              "      <td>133.0</td>\n",
              "      <td>23</td>\n",
              "      <td>?</td>\n",
              "    </tr>\n",
              "    <tr>\n",
              "      <th>6</th>\n",
              "      <td>151.3</td>\n",
              "      <td>24</td>\n",
              "      <td>?</td>\n",
              "    </tr>\n",
              "  </tbody>\n",
              "</table>\n",
              "</div>"
            ],
            "text/plain": [
              "   essence  duree total\n",
              "0     10.0      1     ?\n",
              "1     18.0      2     ?\n",
              "2     20.5      3     ?\n",
              "3    102.0     21     ?\n",
              "4    123.0     22     ?\n",
              "5    133.0     23     ?\n",
              "6    151.3     24     ?"
            ]
          },
          "metadata": {
            "tags": []
          },
          "execution_count": 2
        }
      ]
    },
    {
      "cell_type": "markdown",
      "metadata": {
        "id": "FR3HkHE1_sku"
      },
      "source": [
        "> ##### **Modèle** \n",
        "En analysant les données d'entrainemment, on peut voir que le motant à payer est calculé de la manière suivante.\n",
        "$$ total = 0.09 \\times essence + 3 \\times duree $$\n",
        "Par exemple le client numéro 5 du jeu de données d'entrainement consomme 378.4 litres d'essence et pacours 9 kilomètres. Le motant de la facture de ce client est 61.056 ($0.09 \\times 378.4 + 3 \\times 9$).\n",
        "Nous avons un **modèle** linéaire de la forme suivante.\n",
        "$$total = a_1 \\times essence + a_2 \\times duree$$\n",
        "Si on a les valeurs de $a_1$ et de $a_2$, on peut déterminer la facture de n'importe quel client sachant le nombre de litre d'essence consommé et le nombre de kilomètres parcourus.<br>\n",
        "<em>L'algorithme de machine learning va déterminer $a_1$ et $a_2$ (donc trouver le modèle) pour pouvoir déterminer la facture de nouveaux clients.</em>"
      ]
    },
    {
      "cell_type": "markdown",
      "metadata": {
        "id": "ODmipQUp5aqO"
      },
      "source": [
        "> ##### **Validation de Modèle** <br>\n",
        "La validation consiste à utiliser un jeu de donnée test, en générale, plus petit que celui d'entrainement pour tester le modèle. On utilise une métrique pour évaluer la performence du modèle (voir la section valider le modèle). "
      ]
    },
    {
      "cell_type": "markdown",
      "metadata": {
        "id": "wcrWbcJOHC3a"
      },
      "source": [
        "\n",
        "\n",
        "> ### **Mise en oeuvre de l'algoritme avec  [scikit-learn](https://en.wikipedia.org/wiki/Scikit-learn)**\n",
        "On va utiliser le machine learning pour déterminer le montant de la facture des clients du jeu de données de test. \n"
      ]
    },
    {
      "cell_type": "code",
      "metadata": {
        "id": "O1kjmrAtIhCc",
        "outputId": "d0e644eb-9d6c-40eb-e4a8-22e57c05d861",
        "colab": {
          "base_uri": "https://localhost:8080/",
          "height": 50
        }
      },
      "source": [
        "#@title Implémenter le modèle\n",
        "\n",
        "# Préparation des données d'entrainement\n",
        "y = (location['total']).values\n",
        "X = (location[['essence', 'duree']]).values\n",
        "\n",
        "# Creation d'un conteneur pouvant contenir le modèle\n",
        "regr = linear_model.LinearRegression()\n",
        "\n",
        "# Entrainer le modèle à partir de jeu de données d'entrainement. \n",
        "# Cette étape vise à détermner les valeurs de a1 et b2.\n",
        "\n",
        "regression_linéaire = regr.fit(X,y)\n",
        "\n",
        "#print('Coefficients: \\n', regr.coef_)"
      ],
      "execution_count": null,
      "outputs": [
        {
          "output_type": "stream",
          "text": [
            "Coefficients: \n",
            " [0.09 3.  ]\n"
          ],
          "name": "stdout"
        }
      ]
    },
    {
      "cell_type": "markdown",
      "metadata": {
        "id": "lj6LzbuZRx0s"
      },
      "source": [
        " <em>Le modèle de machine learning est prêt, il peut être testé sur de nouveaux données.</em>"
      ]
    },
    {
      "cell_type": "code",
      "metadata": {
        "id": "b_aGca-LRWY1",
        "outputId": "402c3205-675a-4264-bfc4-22ccae409327",
        "colab": {
          "base_uri": "https://localhost:8080/",
          "height": 134
        }
      },
      "source": [
        "#@title Les factures des nouveaux clients selon le modèle\n",
        "# \"Prédire\" la facture des nouveaux lients\n",
        "diabetes_y_pred = regression_linéaire.predict((validation[['essence', 'duree']]).values)\n",
        "for i in range(7):\n",
        "    print('Pour la ligne ', i, ' du jeu de données de test, le modèle indique:',np.round(np.array(diabetes_y_pred.data[i]),decimals=3))"
      ],
      "execution_count": null,
      "outputs": [
        {
          "output_type": "stream",
          "text": [
            "Pour la ligne  0  du jeu de données de test, le modèle indique: 3.9\n",
            "Pour la ligne  1  du jeu de données de test, le modèle indique: 7.62\n",
            "Pour la ligne  2  du jeu de données de test, le modèle indique: 10.845\n",
            "Pour la ligne  3  du jeu de données de test, le modèle indique: 72.18\n",
            "Pour la ligne  4  du jeu de données de test, le modèle indique: 77.07\n",
            "Pour la ligne  5  du jeu de données de test, le modèle indique: 80.97\n",
            "Pour la ligne  6  du jeu de données de test, le modèle indique: 85.617\n"
          ],
          "name": "stdout"
        }
      ]
    },
    {
      "cell_type": "markdown",
      "metadata": {
        "id": "uKanlnFTwakS"
      },
      "source": [
        "> ### Valider le modèle\n",
        "Est ce que le modèle est valide? J'imagine que le lecteur ne peut pas répondre, pour le moment, à cette question. Car on n'a pas encore défini notre attente. Pour cela nous allons utiliser une <u>métrique</u> simple, elle compte le nombre de données dont l'estimation est correcte. Puisque notre modèle est déterministe, on s'attend à ce que le taux de succès du modèle soit de 100% pour le jeu de données de test. On laisse au lecteur le soin de valider le modèle!"
      ]
    },
    {
      "cell_type": "markdown",
      "metadata": {
        "id": "bABx3w_ixTfG"
      },
      "source": [
        "### **En résumé** <br>\n",
        "Ce tutoriel se veut une présentée du mode de fonctionnement des algorithmes de machine learning. Le lecteur remarquera qu'il n'était nécéssaire d'utiliser un algorithme de machine learning dans ce cas de figure car un tableur excel ferait bien le tavail. Vous avez raison! Toutefois l'objectif de ce tutoriel est justement de permettre à ceux qui ne s'y connait pas en statistique de comprendre la phylosophie des algorithmes de machine de learning."
      ]
    },
    {
      "cell_type": "markdown",
      "metadata": {
        "id": "ZfwO8_QTxyLU"
      },
      "source": [
        "### <font color='blue'>Pour aller plus loin</font> <br>"
      ]
    },
    {
      "cell_type": "markdown",
      "metadata": {
        "id": "cKeCh9KP0P7J"
      },
      "source": [
        "#### **Modèle**"
      ]
    },
    {
      "cell_type": "markdown",
      "metadata": {
        "id": "plqJcbIlwKrk"
      },
      "source": [
        "> **Variables** <br>\n",
        "On a un modèle à trois varaibles:\n",
        "\n",
        "\n",
        "1.   variables explicatives(ou varaible indépendantes): essence, duree\n",
        "2.   variable expliqué (ou variable indépendante): total\n",
        "\n"
      ]
    },
    {
      "cell_type": "markdown",
      "metadata": {
        "id": "c2tF_cm9xsW2"
      },
      "source": [
        "> **Famille du modèle** <br>\n",
        "Pour entrainer le modèle, il a fallut qu'on ait la facture de certains clients (voir le jeu de données d'entrainement). Autrement, on aurait pas été capable d'entrainer le modèle sans ces exemples de facture. Un tel modèle est dit supervisé.   "
      ]
    },
    {
      "cell_type": "markdown",
      "metadata": {
        "id": "eqp4d4mzFxGI"
      },
      "source": [
        "> **Paramètres du modèle ($total = a_1 \\times essence + a_2  \\times duree$)** <br>\n",
        "Les paramètres du modèle sont  \"$a_1$\" et \"$a_2$\". Les valeurs des paramètres sont calculées lors de l'entrainement du modèle à partir des données d'entrainement. Par exemple, si le prix de l'essence change (donc les données d'entrainement vont changer aussi), on doit entrainer le modèle à nouveau pour déterminer les nouvelles valeurs de ces paramètres. Dans ce cas on dit qu'on met à jour le modèle."
      ]
    },
    {
      "cell_type": "markdown",
      "metadata": {
        "id": "Z-fXhqfF1wL3"
      },
      "source": [
        "> **Analyse du modèle**<br>\n",
        "Connaissant le nombre de kilomètres parcourus et le nombre de litres d'essence consommée, on peut déterminer avec certitude le total de la facture. Un tel modèle est dite déterministe. Si on voulait plutôt prédire le prix d'un logement en fonction de sa superficié; on serait incapable de prédire le prix avec certitude même si on connait la superficie du logement(il y a d'autres facteurs non contrôlés). Dans ce cas le modèle associé à une telle problématique est dite stochastique. C'est ce genre de problématique qui nécessite l'utilisation du machine learning.\n"
      ]
    },
    {
      "cell_type": "markdown",
      "metadata": {
        "id": "Z6ry-nuG_STW"
      },
      "source": [
        "#### **Lien vers des formations sur le machine learning**\n",
        "> https://learn.datacamp.com/career-tracks/data-scientist-with-python?version=2\n",
        "\n",
        "> https://www.coursera.org/professional-certificates/ibm-data-science\n",
        "\n",
        "> https://www.teluq.ca/site/etudes/clom/initiation-vocabulaire-ia.php"
      ]
    }
  ]
}